{
 "cells": [
  {
   "cell_type": "markdown",
   "metadata": {},
   "source": [
    "<img src=\"https://bit.ly/2VnXWr2\" width=\"100\" align=\"left\">"
   ]
  },
  {
   "cell_type": "markdown",
   "metadata": {},
   "source": [
    "# Bus\n",
    "\n",
    "This bus has a passenger entry and exit control system to monitor the number of occupants it carries and thus detect when there are too many.\n",
    "\n",
    "At each stop, the entry and exit of passengers is represented by a tuple consisting of two integer numbers.\n",
    "```\n",
    "bus_stop = (in, out)\n",
    "```\n",
    "The succession of stops is represented by a list of these tuples.\n",
    "```\n",
    "stops = [(in1, out1), (in2, out2), (in3, out3), (in4, out4)]\n",
    "```\n",
    "\n",
    "## Tools\n",
    "You don't necessarily need to use all the tools. Maybe you opt to use some of them or completely different ones, they are given to help you shape the exercise. Programming exercises can be solved in many different ways.\n",
    "* Data structures: **lists, tuples**\n",
    "* Loop: **while/for loops**\n",
    "* Functions: **min, max, len**\n",
    "\n",
    "## Tasks"
   ]
  },
  {
   "cell_type": "code",
   "execution_count": 1,
   "metadata": {},
   "outputs": [],
   "source": [
    "\n",
    "bus_stop = (\"entram\", \"saem\")\n",
    "stops = [(10, 0), (4, 1), (3, 5), (3, 4), (5, 1), (1, 5), (5, 8), (4, 6), (2, 3)]\n"
   ]
  },
  {
   "cell_type": "markdown",
   "metadata": {},
   "source": [
    "#### 1. Calculate the number of stops."
   ]
  },
  {
   "cell_type": "code",
   "execution_count": 2,
   "metadata": {},
   "outputs": [
    {
     "name": "stdout",
     "output_type": "stream",
     "text": [
      "number of stops is  9\n"
     ]
    }
   ],
   "source": [
    "lista_stops=list(stops)\n",
    "print(\"number of stops is \",len(stops))"
   ]
  },
  {
   "cell_type": "markdown",
   "metadata": {},
   "source": [
    "#### 2. Assign to a variable a list whose elements are the number of passengers at each stop (in-out).\n",
    "Each item depends on the previous item in the list + in - out."
   ]
  },
  {
   "cell_type": "code",
   "execution_count": 3,
   "metadata": {},
   "outputs": [
    {
     "name": "stdout",
     "output_type": "stream",
     "text": [
      "passenger's balance is  [10, 3, -2, -1, 4, -4, -3, -2, -1]\n",
      "number of passengers per stop is  [10, 13, 11, 10, 14, 10, 7, 5, 4]\n"
     ]
    }
   ],
   "source": [
    "# \"primeira parada é [0][0]-[0][1]. segunda parada é o resultado da primeira + [1][0]-[1][1]\"\n",
    "flow_per_stop=(list())\n",
    "passengers_per_stop=(list())\n",
    "soma=0\n",
    "soma_p=0\n",
    "for i,j in lista_stops:\n",
    "    soma= i-j\n",
    "    flow_per_stop.append(soma)\n",
    "    soma_p = soma_p + i - j\n",
    "    passengers_per_stop.append(soma_p)\n",
    "print(\"passenger's balance is \",flow_per_stop)\n",
    "print(\"number of passengers per stop is \", passengers_per_stop)"
   ]
  },
  {
   "cell_type": "markdown",
   "metadata": {},
   "source": [
    "#### 3. Find the maximum occupation of the bus."
   ]
  },
  {
   "cell_type": "code",
   "execution_count": 4,
   "metadata": {},
   "outputs": [
    {
     "name": "stdout",
     "output_type": "stream",
     "text": [
      "maximum number of passengers is 14\n"
     ]
    }
   ],
   "source": [
    "print(\"maximum number of passengers is\",max(passengers_per_stop))"
   ]
  },
  {
   "cell_type": "markdown",
   "metadata": {},
   "source": [
    "#### 4. Calculate the average occupation. And the standard deviation."
   ]
  },
  {
   "cell_type": "code",
   "execution_count": 5,
   "metadata": {},
   "outputs": [
    {
     "name": "stdout",
     "output_type": "stream",
     "text": [
      "average ocupation is  9.333333333333334\n",
      "squared diferences are  [0.44444444444444364, 13.44444444444444, 2.777777777777776, 0.44444444444444364, 21.77777777777777, 0.44444444444444364, 5.444444444444447, 18.777777777777782, 28.44444444444445]\n",
      "84\n",
      "standard deviation is  3.0550504633038935\n"
     ]
    }
   ],
   "source": [
    "# average ocupation (mean)\n",
    "#forgot to use sum()\n",
    "soma_average=0\n",
    "for i in passengers_per_stop:\n",
    "    soma_average= soma_average +i\n",
    "print(\"average ocupation is \",soma_average/len(passengers_per_stop))\n",
    "# standard deviation\n",
    "squared_dif=list()\n",
    "soma_squared_dif=0\n",
    "for i in passengers_per_stop:\n",
    "    deviation=(i-(soma_average/len(passengers_per_stop)))**2\n",
    "    squared_dif.append(deviation)\n",
    "    soma_squared_dif+= +i\n",
    "print(\"squared diferences are \",squared_dif)\n",
    "print(soma_squared_dif)\n",
    "# squared differences mean and root\n",
    "print(\"standard deviation is \",(soma_squared_dif/len(passengers_per_stop))**0.5)"
   ]
  },
  {
   "cell_type": "code",
   "execution_count": null,
   "metadata": {},
   "outputs": [],
   "source": []
  }
 ],
 "metadata": {
  "kernelspec": {
   "display_name": "Python 3",
   "language": "python",
   "name": "python3"
  },
  "language_info": {
   "codemirror_mode": {
    "name": "ipython",
    "version": 3
   },
   "file_extension": ".py",
   "mimetype": "text/x-python",
   "name": "python",
   "nbconvert_exporter": "python",
   "pygments_lexer": "ipython3",
   "version": "3.7.4"
  }
 },
 "nbformat": 4,
 "nbformat_minor": 2
}
