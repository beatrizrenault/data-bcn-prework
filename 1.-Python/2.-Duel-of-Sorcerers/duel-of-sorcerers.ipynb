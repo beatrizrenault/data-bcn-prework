{
 "cells": [
  {
   "cell_type": "markdown",
   "metadata": {},
   "source": [
    "<img src=\"https://bit.ly/2VnXWr2\" width=\"100\" align=\"left\">"
   ]
  },
  {
   "cell_type": "markdown",
   "metadata": {},
   "source": [
    "# Duel of Sorcerers\n",
    "You are witnessing an epic battle between two powerful sorcerers: Gandalf and Saruman. Each sorcerer has 10 spells of variable power in their mind and they are going to throw them one after the other. The winner of the duel will be the one who wins more of those clashes between spells. Spells are represented as a list of 10 integers whose value equals the power of the spell.\n",
    "```\n",
    "gandalf = [10, 11, 13, 30, 22, 11, 10, 33, 22, 22]\n",
    "saruman = [23, 66, 12, 43, 12, 10, 44, 23, 12, 17]\n",
    "```\n",
    "For example:\n",
    "- The first clash is won by Saruman: 10 against 23.\n",
    "- The second clash is won by Saruman: 11 against 66.\n",
    "- ...\n",
    "\n",
    "You will create two variables, one for each sorcerer, where the sum of clashes won will be stored. Depending on which variable is greater at the end of the duel, you will show one of the following three results on the screen:\n",
    "* Gandalf wins\n",
    "* Saruman wins\n",
    "* Tie\n",
    "\n",
    "<img src=\"images/content_lightning_bolt_big.jpg\" width=\"400\">"
   ]
  },
  {
   "cell_type": "markdown",
   "metadata": {},
   "source": [
    "## Tools\n",
    "You don't necessarily need to use all the tools. Maybe you opt to use some of them or completely different ones, they are given to help you shape the exercise. Programming exercises can be solved in many different ways.\n",
    "\n",
    "1. Data structures: **lists, dictionaries**\n",
    "2. Loop: **for loop**\n",
    "3. Conditional statements: **if-elif-else**\n",
    "4. Functions: **range(), len(), print()**\n",
    "\n",
    "## Tasks\n",
    "\n",
    "#### 1. Create two variables called `gandalf` and `saruman` and assign them the spell power lists. Create a variable called `spells` to store the number of spells that the sorcerers cast. "
   ]
  },
  {
   "cell_type": "code",
   "execution_count": 3,
   "metadata": {},
   "outputs": [],
   "source": [
    "gandalf = [10, 11, 13, 30, 22, 11, 10, 33, 22, 22]\n",
    "saruman = [23, 66, 12, 43, 12, 10, 44, 23, 12, 17]\n",
    "gandalf = [int(x) for x in gandalf]\n",
    "saruman = [int(x) for x in saruman]\n",
    "spells=0"
   ]
  },
  {
   "cell_type": "markdown",
   "metadata": {},
   "source": [
    "#### 2. Create two variables called `gandalf_wins` and `saruman_wins`. Set both of them to 0. \n",
    "You will use these variables to count the number of clashes each sorcerer wins. "
   ]
  },
  {
   "cell_type": "code",
   "execution_count": 4,
   "metadata": {},
   "outputs": [],
   "source": [
    "gandalf_wins=0\n",
    "saruman_wins=0\n",
    "tie=0"
   ]
  },
  {
   "cell_type": "markdown",
   "metadata": {},
   "source": [
    "#### 3. Using the lists of spells of both sorcerers, update variables `gandalf_wins` and `saruman_wins` to count the number of times each sorcerer wins a clash. "
   ]
  },
  {
   "cell_type": "code",
   "execution_count": 5,
   "metadata": {},
   "outputs": [],
   "source": [
    "for i in range(len(gandalf)):\n",
    "    if gandalf[i]>saruman[i]:\n",
    "        gandalf_wins+=1\n",
    "        spells+=1\n",
    "    elif gandalf[i]<saruman[i]:\n",
    "        saruman_wins+=1\n",
    "        spells += 1\n",
    "    else:\n",
    "        tie+=1\n",
    "        spells += 1"
   ]
  },
  {
   "cell_type": "markdown",
   "metadata": {},
   "source": [
    "#### 4. Who won the battle?\n",
    "Print `Gandalf wins`, `Saruman wins` or `Tie` depending on the result. "
   ]
  },
  {
   "cell_type": "code",
   "execution_count": 6,
   "metadata": {},
   "outputs": [
    {
     "name": "stdout",
     "output_type": "stream",
     "text": [
      "out of  10 spells, gandalf won  6 times, saruman won  4 times, and there were  0 ties\n"
     ]
    }
   ],
   "source": [
    "print(\"out of \",spells,\"spells, gandalf won \",gandalf_wins,\"times, saruman won \",saruman_wins,\"times, and there were \",tie,\"ties\")\n"
   ]
  },
  {
   "cell_type": "markdown",
   "metadata": {},
   "source": [
    "## Bonus\n",
    "\n",
    "In this bonus challenge, you'll need to check the winner of the battle but this time, a sorcerer wins if he succeeds in winning 3 spell clashes in a row.\n",
    "\n",
    "Also, the spells now have a name and there is a dictionary that associates that name to a power.\n",
    "\n",
    "```\n",
    "POWER = {\n",
    "    'Fireball': 50, \n",
    "    'Lightning bolt': 40, \n",
    "    'Magic arrow': 10, \n",
    "    'Black Tentacles': 25, \n",
    "    'Contagion': 45\n",
    "}\n",
    "\n",
    "gandalf = ['Fireball', 'Lightning bolt', 'Lightning bolt', 'Magic arrow', 'Fireball', \n",
    "           'Magic arrow', 'Lightning bolt', 'Fireball', 'Fireball', 'Fireball']\n",
    "saruman = ['Contagion', 'Contagion', 'Black Tentacles', 'Fireball', 'Black Tentacles', \n",
    "           'Lightning bolt', 'Magic arrow', 'Contagion', 'Magic arrow', 'Magic arrow']\n",
    "```\n",
    "\n",
    "#### 1. Create variables `POWER`, `gandalf` and `saruman` as seen above. Create a variable called `spells` to store the number of spells that the sorcerers cast. "
   ]
  },
  {
   "cell_type": "code",
   "execution_count": 7,
   "metadata": {},
   "outputs": [],
   "source": [
    "POWER = {\n",
    "    'Fireball': 50,\n",
    "    'Lightning bolt': 40,\n",
    "    'Magic arrow': 10,\n",
    "    'Black Tentacles': 25,\n",
    "    'Contagion': 45\n",
    "}\n",
    "\n",
    "gandalf = ['Fireball', 'Lightning bolt', 'Lightning bolt', 'Magic arrow', 'Fireball',\n",
    "           'Magic arrow', 'Lightning bolt', 'Fireball', 'Fireball', 'Fireball']\n",
    "saruman = ['Contagion', 'Contagion', 'Black Tentacles', 'Fireball', 'Black Tentacles',\n",
    "           'Lightning bolt', 'Magic arrow', 'Contagion', 'Magic arrow', 'Magic arrow']\n"
   ]
  },
  {
   "cell_type": "markdown",
   "metadata": {},
   "source": [
    "#### 2. Create two variables called `gandalf_wins` and `saruman_wins`. Set both of them to 0. "
   ]
  },
  {
   "cell_type": "code",
   "execution_count": 8,
   "metadata": {},
   "outputs": [],
   "source": [
    "gandalf_wins=0\n",
    "saruman_wins=0"
   ]
  },
  {
   "cell_type": "markdown",
   "metadata": {},
   "source": [
    "#### 3. Create two variables called `gandalf_power` and `saruman_power` to store the list of spell powers of each sorcerer."
   ]
  },
  {
   "cell_type": "code",
   "execution_count": 9,
   "metadata": {},
   "outputs": [],
   "source": [
    "gandalf_power=list()\n",
    "saruman_power=list()"
   ]
  },
  {
   "cell_type": "markdown",
   "metadata": {},
   "source": [
    "#### 4. The battle starts! Using the variables you've created above, code the execution of spell clashes. Remember that a sorcerer wins if he succeeds in winning 3 spell clashes in a row. \n",
    "If a clash ends up in a tie, the counter of wins in a row is not restarted to 0. Remember to print who is the winner of the battle. "
   ]
  },
  {
   "cell_type": "code",
   "execution_count": 10,
   "metadata": {},
   "outputs": [
    {
     "name": "stdout",
     "output_type": "stream",
     "text": [
      "[50, 40, 40, 10, 50, 10, 40, 50, 50, 50]\n",
      "[45, 45, 25, 50, 25, 40, 10, 45, 10, 10]\n",
      "[5, -5, 15, -40, 25, -30, 30, 5, 40, 40]\n",
      "['gan', 'sar', 'gan', 'sar', 'gan', 'sar', 'gan', 'gan', 'gan', 'gan']\n",
      "Gandalf is the winner\n"
     ]
    }
   ],
   "source": [
    "\n",
    "for i in gandalf:\n",
    "    gandalf_power.append(POWER[i])\n",
    "print(gandalf_power)\n",
    "\n",
    "for i in saruman:\n",
    "    saruman_power.append(POWER[i])\n",
    "print(saruman_power)\n",
    "\n",
    "battle_results=list()\n",
    "battle_winner=list()\n",
    "\n",
    "for i in range(len(gandalf_power)):\n",
    "    battle_results.append(gandalf_power[i]-saruman_power[i])\n",
    "print(battle_results)\n",
    "for i in battle_results:\n",
    "    if i>0:\n",
    "        battle_winner.append(\"gan\")\n",
    "    elif i<0:\n",
    "        battle_winner.append(\"sar\")\n",
    "    else:\n",
    "        continue\n",
    "print(battle_winner)\n",
    "for i in battle_results:\n",
    "    if i>0:\n",
    "        gandalf_wins+=1\n",
    "        saruman_wins=0\n",
    "    elif i<0:\n",
    "        gandalf_wins=0\n",
    "        saruman_wins+=1\n",
    "    else:\n",
    "        continue\n",
    "\n",
    "if gandalf_wins>3:\n",
    "    print(\"Gandalf is the winner\")\n",
    "elif saruman_wins>3:\n",
    "    print(\"Saruman is the winner\")\n",
    "else:\n",
    "    print(\"No winner\")"
   ]
  },
  {
   "cell_type": "markdown",
   "metadata": {},
   "source": [
    "#### 5. Find the average spell power of Gandalf and Saruman. "
   ]
  },
  {
   "cell_type": "code",
   "execution_count": 11,
   "metadata": {},
   "outputs": [
    {
     "name": "stdout",
     "output_type": "stream",
     "text": [
      "Gandalf's average is  39.0\n",
      "Saruman's average is  30.5\n"
     ]
    }
   ],
   "source": [
    "#average spell power\n",
    "gandalf_sum=0\n",
    "for i in gandalf_power:\n",
    "    gandalf_sum=gandalf_sum + i\n",
    "gandalf_average= gandalf_sum / len(gandalf_power)\n",
    "print(\"Gandalf's average is \",gandalf_average)\n",
    "\n",
    "saruman_sum=0\n",
    "for i in saruman_power:\n",
    "    saruman_sum=saruman_sum + i\n",
    "saruman_average= saruman_sum / len(saruman_power)\n",
    "print(\"Saruman's average is \", saruman_average)"
   ]
  },
  {
   "cell_type": "markdown",
   "metadata": {},
   "source": [
    "#### 6. Find the standard deviation of the spell power of Gandalf and Saruman. "
   ]
  },
  {
   "cell_type": "code",
   "execution_count": 12,
   "metadata": {},
   "outputs": [
    {
     "name": "stdout",
     "output_type": "stream",
     "text": [
      "Gandalf's standard deviation is  15.132745950421556\n",
      "Saruman's standard deviation is  15.56438241627338\n"
     ]
    }
   ],
   "source": [
    "#sometimes I forget to use sum()\n",
    "#Gandalf's standard deviation\n",
    "step1_gandalf=list()\n",
    "for i in gandalf_power:\n",
    "    i=(i-gandalf_average)**2\n",
    "    step1_gandalf.append(i)\n",
    "\n",
    "step1_gandalf_sum=0\n",
    "for i in step1_gandalf:\n",
    "    step1_gandalf_sum=step1_gandalf_sum + i\n",
    "gandalf_standard_deviation= (step1_gandalf_sum / len(step1_gandalf))**0.5\n",
    "print(\"Gandalf's standard deviation is \",gandalf_standard_deviation)\n",
    "\n",
    "#Saruman's standard deviation\n",
    "step1_saruman=list()\n",
    "for i in saruman_power:\n",
    "    i=(i-saruman_average)**2\n",
    "    step1_saruman.append(i)\n",
    "\n",
    "step1_saruman_sum=0\n",
    "for i in step1_saruman:\n",
    "    step1_saruman_sum=step1_saruman_sum + i\n",
    "saruman_standard_deviation= (step1_saruman_sum / len(step1_saruman))**0.5\n",
    "print(\"Saruman's standard deviation is \",saruman_standard_deviation)"
   ]
  },
  {
   "cell_type": "code",
   "execution_count": null,
   "metadata": {},
   "outputs": [],
   "source": []
  }
 ],
 "metadata": {
  "kernelspec": {
   "display_name": "Python 3",
   "language": "python",
   "name": "python3"
  },
  "language_info": {
   "codemirror_mode": {
    "name": "ipython",
    "version": 3
   },
   "file_extension": ".py",
   "mimetype": "text/x-python",
   "name": "python",
   "nbconvert_exporter": "python",
   "pygments_lexer": "ipython3",
   "version": "3.7.4"
  }
 },
 "nbformat": 4,
 "nbformat_minor": 2
}
