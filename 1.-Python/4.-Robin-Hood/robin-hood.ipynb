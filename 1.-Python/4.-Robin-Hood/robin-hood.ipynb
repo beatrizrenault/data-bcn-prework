{
 "cells": [
  {
   "cell_type": "markdown",
   "metadata": {},
   "source": [
    "<img src=\"https://bit.ly/2VnXWr2\" width=\"100\" align=\"left\"/>"
   ]
  },
  {
   "cell_type": "markdown",
   "metadata": {},
   "source": [
    "# Robin Hood\n",
    "Robin Hood has entered a competition to win the archery contest in Sherwood. With his bow and arrows, he needs to shoot on a target and try to hit as close as possible to the center.\n",
    "\n",
    "![](images/arrows.jpg)\n",
    "\n",
    "## Context\n",
    "In this challenge, the landing position of arrows shot by archers in the competition will be represented using 2-dimensional coordinates. \n",
    "\n",
    "In the 2-dimensional space, a point can be defined by a pair of values that correspond to the horizontal coordinate (x) and the vertical coordinate (y). For example, in our case, an arrow that hits the center of the archery target will land in position (0, 0) on the coordinate axes. \n",
    "\n",
    "The space can be divided into 4 zones (quadrants): Q1, Q2, Q3, Q4. If a point is in Q1, both its x coordinate and y coordinate are positive. Any point with a null x or y coordinate is considered to not belong to any quadrant. \n",
    "\n",
    "If you want to know more about the cartesian coordinate system, you can check this [link](https://en.wikipedia.org/wiki/Cartesian_coordinate_system). \n",
    "\n",
    "## Tools\n",
    "You don't necessarily need to use all the tools. Maybe you opt to use some of them or completely different ones, they are given to help you shape the exercise. Programming exercises can be solved in many different ways.\n",
    "* Data structures: **lists, sets, tuples**\n",
    "* Conditional statements: **if-elif-else**\n",
    "* Loop: **while/for**\n",
    "* Minimum (optional sorting)\n",
    "\n",
    "## Tasks\n",
    "Robin Hood has hit the following points:"
   ]
  },
  {
   "cell_type": "code",
   "execution_count": 2,
   "metadata": {},
   "outputs": [],
   "source": [
    "points = [(4, 5), (-0, 2), (4, 7), (1, -3), (3, -2), (4, 5), (3, 2), (5, 7), (-5, 7), (2, 2), (-4, 5), (0, -2),\n",
    "          (-4, 7), (-1, 3), (-3, 2), (-4, -5), (-3, 2), (5, 7), (5, 7), (2, 2), (9, 9), (-8, -9)]"
   ]
  },
  {
   "cell_type": "markdown",
   "metadata": {},
   "source": [
    "#### 1. Robin Hood is famous for hitting an arrow with another arrow. Find the coordinates of the points where an arrow hits another arrow."
   ]
  },
  {
   "cell_type": "code",
   "execution_count": 3,
   "metadata": {},
   "outputs": [
    {
     "name": "stdout",
     "output_type": "stream",
     "text": [
      "points hit by an arrow twice or more [(4, 5), (-3, 2), (5, 7), (2, 2)]\n"
     ]
    }
   ],
   "source": [
    "solo_points=[]\n",
    "first_check=[]\n",
    "second_check=[]\n",
    "for i in points:\n",
    "    if i in solo_points:\n",
    "        first_check.append(i)\n",
    "    else:\n",
    "        solo_points.append(i)\n",
    "# now, to avoid repeated coordinates\n",
    "\n",
    "for i in first_check:\n",
    "    if i in second_check:\n",
    "        continue\n",
    "    else:\n",
    "        second_check.append(i)\n",
    "print(\"points hit by an arrow twice or more\",second_check)"
   ]
  },
  {
   "cell_type": "markdown",
   "metadata": {},
   "source": [
    "#### 2. Calculate how many arrows have fallen in each quadrant. \n",
    "**Note**: the arrows that fall in the axis (x=0 or y=0) don't belong to any quadrant."
   ]
  },
  {
   "cell_type": "code",
   "execution_count": 4,
   "metadata": {},
   "outputs": [
    {
     "name": "stdout",
     "output_type": "stream",
     "text": [
      "10  arrows on Q1, 6  arrows on Q2, 2  arrows on Q3, 2  arrows on Q4, 2  arrows on axis\n"
     ]
    }
   ],
   "source": [
    "\n",
    "#If in first quadrant then,    x > 0 and y > 0\n",
    "#If in second quadrant then,   x < 0 and y > 0\n",
    "#If in third quadrant then,    x < 0 and y < 0\n",
    "#If in fourth quadrant then,   x > 0 and y < 0\n",
    "#If no quadrants then x=0 or y=0\n",
    "\n",
    "Q1=list()\n",
    "Q2=list()\n",
    "Q3=list()\n",
    "Q4=list()\n",
    "No_Q=list()\n",
    "\n",
    "for x,y in points:\n",
    "    if (x > 0 and y > 0):\n",
    "        Q1.append((x,y))\n",
    "\n",
    "    elif (x < 0 and y > 0):\n",
    "        Q2.append((x,y))\n",
    "\n",
    "    elif (x < 0 and y < 0):\n",
    "        Q3.append((x,y))\n",
    "\n",
    "    elif (x > 0 and y < 0):\n",
    "        Q4.append((x,y))\n",
    "\n",
    "    else:\n",
    "        No_Q.append((x, y))\n",
    "print(len(Q1),\" arrows on Q1,\",len(Q2),\" arrows on Q2,\",len(Q3),\" arrows on Q3,\",len(Q4),\" arrows on Q4,\",len(No_Q),\" arrows on axis\")\n"
   ]
  },
  {
   "cell_type": "markdown",
   "metadata": {},
   "source": [
    "#### 3. Find the point closest to the center. Calculate its distance to the center. \n",
    "Take into account that there might be more than one point at the minimum distance to the center.\n",
    "\n",
    "**Hint**: Use the Euclidean distance. You can find more information about it [here](https://en.wikipedia.org/wiki/Euclidean_distance).  \n",
    "**Hint**: Defining a function that calculates the distance to the center can help."
   ]
  },
  {
   "cell_type": "code",
   "execution_count": 5,
   "metadata": {},
   "outputs": [
    {
     "name": "stdout",
     "output_type": "stream",
     "text": [
      "distances are  [6.4031242374328485, 2.0, 8.06225774829855, 3.1622776601683795, 3.605551275463989, 3.605551275463989, 8.602325267042627, 8.602325267042627, 2.8284271247461903, 6.4031242374328485, 2.0, 8.06225774829855, 3.1622776601683795, 3.605551275463989, 6.4031242374328485, 12.727922061357855, 12.041594578792296]\n",
      "minimum distance is  2.0\n",
      "index positions in list are  [1, 10]\n",
      "(0, 2)\n",
      "(0, -2)\n"
     ]
    }
   ],
   "source": [
    "\n",
    "#distance euclidean 2D: p is (p1,p2) or (0,0) and q is (q1,q2) or (x,y).\n",
    "# dist(p,q) = (((q1-p1)**2)+((q2-p2)**2))+**0.5\n",
    "# dist=(((x-0)**2)+((0-y)**2))**0.5\n",
    "\n",
    "#to avoid duplicates\n",
    "solo_points = list(dict.fromkeys(points))\n",
    "#to know distances\n",
    "distances=list()\n",
    "for x,y in solo_points:\n",
    "    dist = (((x - 0) ** 2) + ((0 - y) ** 2))** 0.5\n",
    "    distances.append(dist)\n",
    "print(\"distances are \",distances)\n",
    "print(\"minimum distance is \",min(distances))\n",
    "\n",
    "\n",
    "#to find out points with the minimum distance\n",
    "position_index=-1\n",
    "index_=list()\n",
    "for i in distances:\n",
    "    if i == min(distances):\n",
    "        position_index +=1\n",
    "        index_.append(position_index)\n",
    "    else:\n",
    "        position_index +=1\n",
    "        continue\n",
    "\n",
    "print(\"index positions in list are \",index_)\n",
    "for i in index_:\n",
    "    print(solo_points[i])\n"
   ]
  },
  {
   "cell_type": "markdown",
   "metadata": {},
   "source": [
    "#### 4. If the archery target has a radius of 9, calculate the number of arrows that won't hit the target. \n",
    "**Hint**: Use the function created in step 3. "
   ]
  },
  {
   "cell_type": "code",
   "execution_count": 6,
   "metadata": {},
   "outputs": [
    {
     "name": "stdout",
     "output_type": "stream",
     "text": [
      "[(9, 9), (-8, -9)]\n"
     ]
    }
   ],
   "source": [
    "\n",
    "#number of arrows spoiled\n",
    "spoiled=list()\n",
    "for x,y in solo_points:\n",
    "    if ( (((x - 0) ** 2) + ((0 - y) ** 2)) ** 0.5 ) > 9:\n",
    "        spoiled.append((x,y))\n",
    "print(spoiled)"
   ]
  },
  {
   "cell_type": "code",
   "execution_count": null,
   "metadata": {},
   "outputs": [],
   "source": []
  }
 ],
 "metadata": {
  "kernelspec": {
   "display_name": "Python 3",
   "language": "python",
   "name": "python3"
  },
  "language_info": {
   "codemirror_mode": {
    "name": "ipython",
    "version": 3
   },
   "file_extension": ".py",
   "mimetype": "text/x-python",
   "name": "python",
   "nbconvert_exporter": "python",
   "pygments_lexer": "ipython3",
   "version": "3.7.4"
  }
 },
 "nbformat": 4,
 "nbformat_minor": 2
}
