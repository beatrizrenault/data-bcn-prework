{
 "cells": [
  {
   "cell_type": "markdown",
   "metadata": {},
   "source": [
    "<img src=\"https://bit.ly/2VnXWr2\" width=\"100\" align=\"left\">"
   ]
  },
  {
   "cell_type": "markdown",
   "metadata": {},
   "source": [
    "# Rock, Paper & Scissors\n",
    "\n",
    "Let's play the famous game against our computer. You can check the rules [here](https://en.wikipedia.org/wiki/Rock%E2%80%93paper%E2%80%93scissors). \n",
    "\n",
    "## Task\n",
    "Create a program that imitates the playability of the well known game of rock, paper, scissors. Follow the guidelines provided.\n",
    "\n",
    "## Tools\n",
    "1. Loop: **for/while**\n",
    "2. Functions: **input(), print()...**\n",
    "3. Conditional statements: **if, elif, else**\n",
    "4. Definition of functions. Modular programming\n",
    "5. Import modules\n",
    "\n",
    "**To solve this challenge, the use of functions is recommended.**\n",
    "\n",
    "#### 1. Import the choice function of the random module."
   ]
  },
  {
   "cell_type": "code",
   "execution_count": 1,
   "metadata": {},
   "outputs": [],
   "source": [
    "import random"
   ]
  },
  {
   "cell_type": "markdown",
   "metadata": {},
   "source": [
    "#### 2. Create a list that includes the 3 possible gesture options of the game: 'rock', 'paper' or 'scissors'. Store the list in a variable called `gestures`."
   ]
  },
  {
   "cell_type": "code",
   "execution_count": 2,
   "metadata": {},
   "outputs": [],
   "source": [
    "#I have a code using strings, but because of bonus, I decided to change it for numbers\n",
    "gestures=[0,1,2]"
   ]
  },
  {
   "cell_type": "markdown",
   "metadata": {},
   "source": [
    "#### 3. Create a variable called `n_rounds` to store the maximum number of rounds to play in a game. \n",
    "Remember that the number of rounds must be odd: 1, 3, 5, ..."
   ]
  },
  {
   "cell_type": "code",
   "execution_count": 3,
   "metadata": {},
   "outputs": [],
   "source": [
    "#number of matches\n",
    "n_rounds=5"
   ]
  },
  {
   "cell_type": "markdown",
   "metadata": {},
   "source": [
    "#### 4. Create a variable called `rounds_to_win` to store the number of rounds that a player must win to win the game.\n",
    "**Hint**: the value stored in `rounds_to_win` depends on the value of `n_rounds`. "
   ]
  },
  {
   "cell_type": "code",
   "execution_count": 4,
   "metadata": {},
   "outputs": [],
   "source": [
    "rounds_to_win= int((n_rounds/2)+1)"
   ]
  },
  {
   "cell_type": "markdown",
   "metadata": {},
   "source": [
    "#### 5. Create two variables to store the number of rounds that the computer and the player have won. Call these variables `cpu_score` and `player_score`."
   ]
  },
  {
   "cell_type": "code",
   "execution_count": 5,
   "metadata": {},
   "outputs": [],
   "source": [
    "#player versus cpu\n",
    "player_score=int(0)\n",
    "cpu_score=int(0)\n",
    "\n",
    "scissor=2\n",
    "paper=1\n",
    "rock=0"
   ]
  },
  {
   "cell_type": "markdown",
   "metadata": {},
   "source": [
    "#### 6. Define a function that randomly returns one of the 3 gesture options.\n",
    "You will use this function to simulate the gesture choice of the computer. "
   ]
  },
  {
   "cell_type": "code",
   "execution_count": 6,
   "metadata": {},
   "outputs": [
    {
     "name": "stdout",
     "output_type": "stream",
     "text": [
      "5 rounds to go\n",
      "4 rounds to go\n",
      "3 rounds to go\n",
      "2 rounds to go\n",
      "1 rounds to go\n"
     ]
    }
   ],
   "source": [
    "while n_rounds > 0:\n",
    "    print(n_rounds,\"rounds to go\")\n",
    "    n_rounds -= 1\n",
    "\n",
    "    #insert code here\n",
    "    # control c + v inside loop\n",
    "    # computer input\n",
    "    cpu_move = random.choice(gestures)"
   ]
  },
  {
   "cell_type": "markdown",
   "metadata": {},
   "source": [
    "#### 7. Define a function that asks the player which is the gesture he or she wants to show: 'rock', 'paper' or 'scissors'.\n",
    "The player should only be allowed to choose one of the 3 gesture options. If the player's choice is not rock, paper or scissors, keep asking until it is."
   ]
  },
  {
   "cell_type": "code",
   "execution_count": 9,
   "metadata": {},
   "outputs": [
    {
     "ename": "KeyboardInterrupt",
     "evalue": "",
     "output_type": "error",
     "traceback": [
      "\u001b[0;31m---------------------------------------------------------------------------\u001b[0m",
      "\u001b[0;31mKeyboardInterrupt\u001b[0m                         Traceback (most recent call last)",
      "\u001b[0;32m/Library/Frameworks/Python.framework/Versions/3.7/lib/python3.7/site-packages/ipykernel/kernelbase.py\u001b[0m in \u001b[0;36m_input_request\u001b[0;34m(self, prompt, ident, parent, password)\u001b[0m\n\u001b[1;32m    883\u001b[0m             \u001b[0;32mtry\u001b[0m\u001b[0;34m:\u001b[0m\u001b[0;34m\u001b[0m\u001b[0;34m\u001b[0m\u001b[0m\n\u001b[0;32m--> 884\u001b[0;31m                 \u001b[0mident\u001b[0m\u001b[0;34m,\u001b[0m \u001b[0mreply\u001b[0m \u001b[0;34m=\u001b[0m \u001b[0mself\u001b[0m\u001b[0;34m.\u001b[0m\u001b[0msession\u001b[0m\u001b[0;34m.\u001b[0m\u001b[0mrecv\u001b[0m\u001b[0;34m(\u001b[0m\u001b[0mself\u001b[0m\u001b[0;34m.\u001b[0m\u001b[0mstdin_socket\u001b[0m\u001b[0;34m,\u001b[0m \u001b[0;36m0\u001b[0m\u001b[0;34m)\u001b[0m\u001b[0;34m\u001b[0m\u001b[0;34m\u001b[0m\u001b[0m\n\u001b[0m\u001b[1;32m    885\u001b[0m             \u001b[0;32mexcept\u001b[0m \u001b[0mException\u001b[0m\u001b[0;34m:\u001b[0m\u001b[0;34m\u001b[0m\u001b[0;34m\u001b[0m\u001b[0m\n",
      "\u001b[0;32m/Library/Frameworks/Python.framework/Versions/3.7/lib/python3.7/site-packages/jupyter_client/session.py\u001b[0m in \u001b[0;36mrecv\u001b[0;34m(self, socket, mode, content, copy)\u001b[0m\n\u001b[1;32m    802\u001b[0m         \u001b[0;32mtry\u001b[0m\u001b[0;34m:\u001b[0m\u001b[0;34m\u001b[0m\u001b[0;34m\u001b[0m\u001b[0m\n\u001b[0;32m--> 803\u001b[0;31m             \u001b[0mmsg_list\u001b[0m \u001b[0;34m=\u001b[0m \u001b[0msocket\u001b[0m\u001b[0;34m.\u001b[0m\u001b[0mrecv_multipart\u001b[0m\u001b[0;34m(\u001b[0m\u001b[0mmode\u001b[0m\u001b[0;34m,\u001b[0m \u001b[0mcopy\u001b[0m\u001b[0;34m=\u001b[0m\u001b[0mcopy\u001b[0m\u001b[0;34m)\u001b[0m\u001b[0;34m\u001b[0m\u001b[0;34m\u001b[0m\u001b[0m\n\u001b[0m\u001b[1;32m    804\u001b[0m         \u001b[0;32mexcept\u001b[0m \u001b[0mzmq\u001b[0m\u001b[0;34m.\u001b[0m\u001b[0mZMQError\u001b[0m \u001b[0;32mas\u001b[0m \u001b[0me\u001b[0m\u001b[0;34m:\u001b[0m\u001b[0;34m\u001b[0m\u001b[0;34m\u001b[0m\u001b[0m\n",
      "\u001b[0;32m/Library/Frameworks/Python.framework/Versions/3.7/lib/python3.7/site-packages/zmq/sugar/socket.py\u001b[0m in \u001b[0;36mrecv_multipart\u001b[0;34m(self, flags, copy, track)\u001b[0m\n\u001b[1;32m    474\u001b[0m         \"\"\"\n\u001b[0;32m--> 475\u001b[0;31m         \u001b[0mparts\u001b[0m \u001b[0;34m=\u001b[0m \u001b[0;34m[\u001b[0m\u001b[0mself\u001b[0m\u001b[0;34m.\u001b[0m\u001b[0mrecv\u001b[0m\u001b[0;34m(\u001b[0m\u001b[0mflags\u001b[0m\u001b[0;34m,\u001b[0m \u001b[0mcopy\u001b[0m\u001b[0;34m=\u001b[0m\u001b[0mcopy\u001b[0m\u001b[0;34m,\u001b[0m \u001b[0mtrack\u001b[0m\u001b[0;34m=\u001b[0m\u001b[0mtrack\u001b[0m\u001b[0;34m)\u001b[0m\u001b[0;34m]\u001b[0m\u001b[0;34m\u001b[0m\u001b[0;34m\u001b[0m\u001b[0m\n\u001b[0m\u001b[1;32m    476\u001b[0m         \u001b[0;31m# have first part already, only loop while more to receive\u001b[0m\u001b[0;34m\u001b[0m\u001b[0;34m\u001b[0m\u001b[0;34m\u001b[0m\u001b[0m\n",
      "\u001b[0;32mzmq/backend/cython/socket.pyx\u001b[0m in \u001b[0;36mzmq.backend.cython.socket.Socket.recv\u001b[0;34m()\u001b[0m\n",
      "\u001b[0;32mzmq/backend/cython/socket.pyx\u001b[0m in \u001b[0;36mzmq.backend.cython.socket.Socket.recv\u001b[0;34m()\u001b[0m\n",
      "\u001b[0;32mzmq/backend/cython/socket.pyx\u001b[0m in \u001b[0;36mzmq.backend.cython.socket._recv_copy\u001b[0;34m()\u001b[0m\n",
      "\u001b[0;32m/Library/Frameworks/Python.framework/Versions/3.7/lib/python3.7/site-packages/zmq/backend/cython/checkrc.pxd\u001b[0m in \u001b[0;36mzmq.backend.cython.checkrc._check_rc\u001b[0;34m()\u001b[0m\n",
      "\u001b[0;31mKeyboardInterrupt\u001b[0m: ",
      "\nDuring handling of the above exception, another exception occurred:\n",
      "\u001b[0;31mKeyboardInterrupt\u001b[0m                         Traceback (most recent call last)",
      "\u001b[0;32m<ipython-input-9-71dcf0491e81>\u001b[0m in \u001b[0;36m<module>\u001b[0;34m\u001b[0m\n\u001b[1;32m      1\u001b[0m \u001b[0;31m# player's original input\u001b[0m\u001b[0;34m\u001b[0m\u001b[0;34m\u001b[0m\u001b[0;34m\u001b[0m\u001b[0m\n\u001b[0;32m----> 2\u001b[0;31m \u001b[0mplayer_move\u001b[0m \u001b[0;34m=\u001b[0m \u001b[0mint\u001b[0m\u001b[0;34m(\u001b[0m\u001b[0minput\u001b[0m\u001b[0;34m(\u001b[0m\u001b[0;34m\"Let's start. Type 0 for rock, 1 for paper, 2 for scissor: \"\u001b[0m\u001b[0;34m)\u001b[0m\u001b[0;34m)\u001b[0m\u001b[0;34m\u001b[0m\u001b[0;34m\u001b[0m\u001b[0m\n\u001b[0m\u001b[1;32m      3\u001b[0m \u001b[0;31m# check player's original input\u001b[0m\u001b[0;34m\u001b[0m\u001b[0;34m\u001b[0m\u001b[0;34m\u001b[0m\u001b[0m\n\u001b[1;32m      4\u001b[0m \u001b[0;32mwhile\u001b[0m \u001b[0mplayer_move\u001b[0m \u001b[0;34m>=\u001b[0m \u001b[0;36m0\u001b[0m\u001b[0;34m:\u001b[0m\u001b[0;34m\u001b[0m\u001b[0;34m\u001b[0m\u001b[0m\n\u001b[1;32m      5\u001b[0m     \u001b[0;31m# Check attempt\u001b[0m\u001b[0;34m\u001b[0m\u001b[0;34m\u001b[0m\u001b[0;34m\u001b[0m\u001b[0m\n",
      "\u001b[0;32m/Library/Frameworks/Python.framework/Versions/3.7/lib/python3.7/site-packages/ipykernel/kernelbase.py\u001b[0m in \u001b[0;36mraw_input\u001b[0;34m(self, prompt)\u001b[0m\n\u001b[1;32m    857\u001b[0m             \u001b[0mself\u001b[0m\u001b[0;34m.\u001b[0m\u001b[0m_parent_ident\u001b[0m\u001b[0;34m,\u001b[0m\u001b[0;34m\u001b[0m\u001b[0;34m\u001b[0m\u001b[0m\n\u001b[1;32m    858\u001b[0m             \u001b[0mself\u001b[0m\u001b[0;34m.\u001b[0m\u001b[0m_parent_header\u001b[0m\u001b[0;34m,\u001b[0m\u001b[0;34m\u001b[0m\u001b[0;34m\u001b[0m\u001b[0m\n\u001b[0;32m--> 859\u001b[0;31m             \u001b[0mpassword\u001b[0m\u001b[0;34m=\u001b[0m\u001b[0;32mFalse\u001b[0m\u001b[0;34m,\u001b[0m\u001b[0;34m\u001b[0m\u001b[0;34m\u001b[0m\u001b[0m\n\u001b[0m\u001b[1;32m    860\u001b[0m         )\n\u001b[1;32m    861\u001b[0m \u001b[0;34m\u001b[0m\u001b[0m\n",
      "\u001b[0;32m/Library/Frameworks/Python.framework/Versions/3.7/lib/python3.7/site-packages/ipykernel/kernelbase.py\u001b[0m in \u001b[0;36m_input_request\u001b[0;34m(self, prompt, ident, parent, password)\u001b[0m\n\u001b[1;32m    887\u001b[0m             \u001b[0;32mexcept\u001b[0m \u001b[0mKeyboardInterrupt\u001b[0m\u001b[0;34m:\u001b[0m\u001b[0;34m\u001b[0m\u001b[0;34m\u001b[0m\u001b[0m\n\u001b[1;32m    888\u001b[0m                 \u001b[0;31m# re-raise KeyboardInterrupt, to truncate traceback\u001b[0m\u001b[0;34m\u001b[0m\u001b[0;34m\u001b[0m\u001b[0;34m\u001b[0m\u001b[0m\n\u001b[0;32m--> 889\u001b[0;31m                 \u001b[0;32mraise\u001b[0m \u001b[0mKeyboardInterrupt\u001b[0m\u001b[0;34m\u001b[0m\u001b[0;34m\u001b[0m\u001b[0m\n\u001b[0m\u001b[1;32m    890\u001b[0m             \u001b[0;32melse\u001b[0m\u001b[0;34m:\u001b[0m\u001b[0;34m\u001b[0m\u001b[0;34m\u001b[0m\u001b[0m\n\u001b[1;32m    891\u001b[0m                 \u001b[0;32mbreak\u001b[0m\u001b[0;34m\u001b[0m\u001b[0;34m\u001b[0m\u001b[0m\n",
      "\u001b[0;31mKeyboardInterrupt\u001b[0m: "
     ]
    }
   ],
   "source": [
    "    # player's original input\n",
    "    player_move = int(input(\"Let's start. Type 0 for rock, 1 for paper, 2 for scissor: \"))\n",
    "    # check player's original input\n",
    "    while player_move >= 0:\n",
    "        # Check attempt\n",
    "        if player_move in [0,1,2]:\n",
    "            print(\"You got it.\")\n",
    "            break\n",
    "        # If not paper, rock or scissor, the loop restarts.\n",
    "        else:\n",
    "            player_move = int(input(\"Try again. Type 0 for rock, 1 for paper, 2 for scissor: \"))\n",
    "        # if it is, is done.\n",
    "    else:\n",
    "        print(\"good choice.\")"
   ]
  },
  {
   "cell_type": "markdown",
   "metadata": {},
   "source": [
    "#### 8. Define a function that checks who won a round. \n",
    "The function should return 0 if there is a tie, 1 if the computer wins and 2 if the player wins."
   ]
  },
  {
   "cell_type": "code",
   "execution_count": null,
   "metadata": {},
   "outputs": [],
   "source": [
    "        # print match\n",
    "    if player_move == 0:\n",
    "        print(\"player chooses rock\")\n",
    "    elif player_move == 1:\n",
    "        print(\"player chooses paper\")\n",
    "    elif player_move == 2:\n",
    "        print(\"player chooses scissor\")\n",
    "    else:\n",
    "        print(\"something wrong with player code\")\n",
    "\n",
    "    if cpu_move == 0:\n",
    "        print(\"cpu chooses rock\")\n",
    "    elif cpu_move == 1:\n",
    "        print(\"cpu chooses paper\")\n",
    "    elif cpu_move == 2:\n",
    "        print(\"cpu chooses scissor\")\n",
    "    else:\n",
    "        print(\"something wrong with cpu code\")"
   ]
  },
  {
   "cell_type": "markdown",
   "metadata": {},
   "source": [
    "#### 9. Define a function that prints the choice of the computer, the choice of the player and a message that announces who won the current round. \n",
    "You should also use this function to update the variables that count the number of rounds that the computer and the player have won. The score of the winner increases by one point. If there is a tie, the score does not increase."
   ]
  },
  {
   "cell_type": "code",
   "execution_count": null,
   "metadata": {},
   "outputs": [],
   "source": [
    "#in previous box"
   ]
  },
  {
   "cell_type": "markdown",
   "metadata": {},
   "source": [
    "#### 10. Now it's time to code the execution of the game using the functions and variables you defined above. \n",
    "\n",
    "First, create a loop structure that repeats while no player reaches the minimum score necessary to win and the number of rounds is less than the maximum number of rounds to play in a game.  \n",
    "\n",
    "Inside the loop, use the functions and variables above to create the execution of a round: ask for the player's choice, generate the random choice of the computer, show the round results, update the scores, etc. "
   ]
  },
  {
   "cell_type": "code",
   "execution_count": null,
   "metadata": {},
   "outputs": [],
   "source": [
    "\n",
    "    # code for one match:\n",
    "    # t is 0, player wins if 1 or 2, player looses if -1 or 2\n",
    "    if (player_move - cpu_move)==0:\n",
    "        print(\"tie\")\n",
    "\n",
    "    elif (player_move - cpu_move)==-1 or (player_move - cpu_move)==2:\n",
    "        print(\"player wins\")\n",
    "        player_score += 1\n",
    "\n",
    "    elif (player_move - cpu_move) == 1 or (player_move - cpu_move) == -2:\n",
    "        print(\"player loose\")\n",
    "        cpu_score += 1\n",
    "\n",
    "    else:\n",
    "        print(\"something went wrong with the code\")\n",
    "    #end of game loop"
   ]
  },
  {
   "cell_type": "markdown",
   "metadata": {},
   "source": [
    "#### 11. Print the winner of the game based on who won more rounds.\n",
    "Remember that the game might be tied. "
   ]
  },
  {
   "cell_type": "code",
   "execution_count": null,
   "metadata": {},
   "outputs": [],
   "source": [
    "    if (player_score == rounds_to_win):\n",
    "            print (\"player won before maximum number of rounds\")\n",
    "            break\n",
    "    elif (cpu_score == rounds_to_win):\n",
    "            print (\"cpu won before maximum number of rounds\")\n",
    "            break\n",
    "    else:\n",
    "        if n_rounds == 0:\n",
    "            print(\"end of game, maximum number of rounds reached\")\n",
    "            break\n",
    "\n",
    "# scores - outside the loop\n",
    "print(\"player score is \",player_score,\",cpu score is \",cpu_score)\n",
    "if player_score == cpu_score:\n",
    "    print(\"end of game. Tie.\")\n",
    "elif player_score > cpu_score:\n",
    "    print(\"end of game. Player won.\")\n",
    "else:\n",
    "    print(\"end of game. Cpu won.\")"
   ]
  },
  {
   "cell_type": "markdown",
   "metadata": {},
   "source": [
    "# Bonus: Rock, Paper, Scissors, Lizard & Spock\n",
    "![](images/rpsls.jpg)\n",
    "\n",
    "In this challenge, you need to improve the previous game by adding two new options. To know more about the rules of the improved version of rock, paper, scissors, check this [link](http://www.samkass.com/theories/RPSSL.html). \n",
    "\n",
    "In addition, you will also need to improve how the game interacts with the player: the number of rounds to play, which must be an odd number, will be requested to the user until a valid number is entered. Define a new function to make that request.\n",
    "\n",
    "**Hint**: Try to reuse the code that you already coded in the previous challenge. If your code is efficient, this bonus will only consist of simple modifications to the original game."
   ]
  },
  {
   "cell_type": "code",
   "execution_count": null,
   "metadata": {},
   "outputs": [],
   "source": [
    "import random\n",
    "gestures=[0,1,2,3,4]\n",
    "\n",
    "#number of matches\n",
    "#same int() issue at input()\n",
    "n_rounds=int(input(\"how many rounds do you want to play?\"))\n",
    "while n_rounds %2==0:\n",
    "    if n_rounds >1:\n",
    "        n_rounds = int(input(\"try again. Please provide and odd number: \"))\n",
    "    else:\n",
    "        n_rounds = int(input(\"Please provide and odd number equal or bigger then 1 \"))\n",
    "else:\n",
    "    print(\"ok\")\n",
    "\n",
    "rounds_to_win= int((n_rounds/2)+1)\n",
    "#player versus cpu\n",
    "player_score=int(0)\n",
    "cpu_score=int(0)\n",
    "\n",
    "#spock=4\n",
    "#lizard=3\n",
    "#scissor=2\n",
    "#paper=1\n",
    "#rock=0\n",
    "\n",
    "# while loop for counting rounds (that I didn't test yet)\n",
    "while n_rounds > 0:\n",
    "    print(n_rounds,\"rounds to go\")\n",
    "    n_rounds -= 1\n",
    "\n",
    "    #insert code here\n",
    "    # control c + v inside loop\n",
    "    # computer input\n",
    "    cpu_move = random.choice(gestures)\n",
    "    # player's original input\n",
    "    # but what if I type a letter? I'm having problems with the int()\n",
    "    player_move = int(input(\"Let's start. Type 0 for rock, 1 for paper, 2 for scissor, 3 for lizard and 4 for Spock: \"))\n",
    "    # check player's original input\n",
    "    while player_move >= 0:\n",
    "        # Check attempt\n",
    "        if player_move in [0,1,2,3,4]:\n",
    "            print(\"You got it.\")\n",
    "            break\n",
    "        # If not, the loop restarts.\n",
    "        else:\n",
    "            player_move = int(input(\"Try again. Type 0 for rock, 1 for paper, 2 for scissor, 3 for lizard and 4 for Spock: \"))\n",
    "        # if it is, is done.\n",
    "    else:\n",
    "        print(\"good choice.\")\n",
    "\n",
    "        # print match\n",
    "    if player_move == 0:\n",
    "        print(\"player chooses rock\")\n",
    "    elif player_move == 1:\n",
    "        print(\"player chooses paper\")\n",
    "    elif player_move == 2:\n",
    "        print(\"player chooses scissor\")\n",
    "    elif player_move == 3:\n",
    "        print(\"player chooses lizard\")\n",
    "    elif player_move == 4:\n",
    "        print(\"player chooses Spock\")\n",
    "\n",
    "    else:\n",
    "        print(\"something wrong with player code\")\n",
    "\n",
    "    if cpu_move == 0:\n",
    "        print(\"cpu chooses rock\")\n",
    "    elif cpu_move == 1:\n",
    "        print(\"cpu chooses paper\")\n",
    "    elif cpu_move == 2:\n",
    "        print(\"cpu chooses scissor\")\n",
    "    elif cpu_move == 3:\n",
    "        print(\"cpu chooses lizard\")\n",
    "    elif cpu_move == 4:\n",
    "        print(\"cpu chooses Spock\")\n",
    "    else:\n",
    "        print(\"something wrong with cpu code\")\n",
    "\n",
    "    # code for one match:\n",
    "    # very crazy. \"google\" said to use %5 and I think is a matter of removing signals + probabilities\n",
    "    # for example, the amount of time -2 or -1 is \"lose\" is equal to the amount of time 2 or 1 is \"win\" and vice-versa. Same for -4 and 3, -3 and 4.\n",
    "    # but I don't quite get it.\n",
    "    if (player_move,cpu_move) in ((0,0),(1,1),(2,2),(3,3),(4,4)):\n",
    "        print(\"tie\")\n",
    "\n",
    "    elif (player_move,cpu_move) in ((1,0),(4,0),(2,1),(3,1),(0,2),(4,2),(0,3),(2,3),(1,4),(3,4)):\n",
    "        print(\"player wins\")\n",
    "        player_score += 1\n",
    "\n",
    "    elif (player_move,cpu_move) in ((2,0),(3,0),(0,1),(4,1),(1,2),(3,2),(1,3),(4,3),(0,4),(2,4)):\n",
    "        print(\"player loose\")\n",
    "        cpu_score += 1\n",
    "\n",
    "    else:\n",
    "        print(\"something went wrong with the code\")\n",
    "    #end of game loop\n",
    "\n",
    "    if player_score == rounds_to_win:\n",
    "            print (\"player won before maximum number of rounds\")\n",
    "            break\n",
    "    elif cpu_score == rounds_to_win:\n",
    "            print (\"cpu won before maximum number of rounds\")\n",
    "            break\n",
    "    else:\n",
    "        if n_rounds == 0:\n",
    "            print(\"end of game, maximum number of rounds reached\")\n",
    "            break\n",
    "\n",
    "\n",
    "# scores - control c + control v outside the loop\n",
    "print(\"player score is \",player_score,\",cpu score is \",cpu_score)\n",
    "if player_score == cpu_score:\n",
    "    print(\"end of game. Tie.\")\n",
    "elif player_score > cpu_score:\n",
    "    print(\"end of game. Player won.\")\n",
    "else:\n",
    "    print(\"end of game. Cpu won.\")"
   ]
  },
  {
   "cell_type": "code",
   "execution_count": null,
   "metadata": {},
   "outputs": [],
   "source": []
  }
 ],
 "metadata": {
  "kernelspec": {
   "display_name": "Python 3",
   "language": "python",
   "name": "python3"
  },
  "language_info": {
   "codemirror_mode": {
    "name": "ipython",
    "version": 3
   },
   "file_extension": ".py",
   "mimetype": "text/x-python",
   "name": "python",
   "nbconvert_exporter": "python",
   "pygments_lexer": "ipython3",
   "version": "3.7.4"
  }
 },
 "nbformat": 4,
 "nbformat_minor": 2
}
